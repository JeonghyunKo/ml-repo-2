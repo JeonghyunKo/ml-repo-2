{
 "cells": [
  {
   "cell_type": "code",
   "execution_count": 38,
   "id": "921e69ca",
   "metadata": {},
   "outputs": [],
   "source": [
    "import os\n",
    "import pandas as pd\n",
    "import random\n",
    "random.seed(77)\n",
    "import matplotlib.pyplot as plt\n",
    "import glob"
   ]
  },
  {
   "cell_type": "code",
   "execution_count": 2,
   "id": "10732e27",
   "metadata": {},
   "outputs": [],
   "source": [
    "# 사용할 변수\n",
    "# 1. 분류 기준 : 세 가지 질병 + 정상 상태 \n",
    "symptoms = [\"CNV\", \"DME\", \"DRUSEN\", \"NORMAL\"]\n",
    "# 2. 폴더 절대 경로\n",
    "path_dirs = {\"test_dir\": \"/Users/jh/Desktop/OCT2017/test/\",\n",
    "             \"train_dir\":  \"/Users/jh/Desktop/OCT2017/train/\"}\n",
    "# 3. 이동할 경로 \n",
    "goal_dir =  \"/Users/jh/Desktop/OCT_sampling/train/\""
   ]
  },
  {
   "cell_type": "code",
   "execution_count": 3,
   "id": "f1b44fd6",
   "metadata": {},
   "outputs": [
    {
     "data": {
      "text/plain": [
       "69864"
      ]
     },
     "execution_count": 3,
     "metadata": {},
     "output_type": "execute_result"
    }
   ],
   "source": [
    "#train 폴더 체크 \n",
    "train_total = []\n",
    "for name in symptoms : \n",
    "    get_list = os.listdir(goal_dir + name)\n",
    "    train_total.extend(get_list)\n",
    "len(train_total)"
   ]
  },
  {
   "cell_type": "code",
   "execution_count": 4,
   "id": "277ee5d3",
   "metadata": {},
   "outputs": [
    {
     "data": {
      "text/plain": [
       "['CNV-163081-153.jpeg',\n",
       " 'CNV-3537912-28.jpeg',\n",
       " 'CNV-8087608-23.jpeg',\n",
       " 'CNV-398897-1.jpeg']"
      ]
     },
     "execution_count": 4,
     "metadata": {},
     "output_type": "execute_result"
    }
   ],
   "source": [
    "train_total[:4]"
   ]
  },
  {
   "cell_type": "code",
   "execution_count": 5,
   "id": "5365a780",
   "metadata": {},
   "outputs": [
    {
     "data": {
      "text/html": [
       "<div>\n",
       "<style scoped>\n",
       "    .dataframe tbody tr th:only-of-type {\n",
       "        vertical-align: middle;\n",
       "    }\n",
       "\n",
       "    .dataframe tbody tr th {\n",
       "        vertical-align: top;\n",
       "    }\n",
       "\n",
       "    .dataframe thead th {\n",
       "        text-align: right;\n",
       "    }\n",
       "</style>\n",
       "<table border=\"1\" class=\"dataframe\">\n",
       "  <thead>\n",
       "    <tr style=\"text-align: right;\">\n",
       "      <th></th>\n",
       "      <th>id</th>\n",
       "      <th>percentage</th>\n",
       "    </tr>\n",
       "    <tr>\n",
       "      <th>class</th>\n",
       "      <th></th>\n",
       "      <th></th>\n",
       "    </tr>\n",
       "  </thead>\n",
       "  <tbody>\n",
       "    <tr>\n",
       "      <th>CNV</th>\n",
       "      <td>24861</td>\n",
       "      <td>35.58</td>\n",
       "    </tr>\n",
       "    <tr>\n",
       "      <th>DME</th>\n",
       "      <td>10436</td>\n",
       "      <td>14.94</td>\n",
       "    </tr>\n",
       "    <tr>\n",
       "      <th>DRUSEN</th>\n",
       "      <td>8252</td>\n",
       "      <td>11.81</td>\n",
       "    </tr>\n",
       "    <tr>\n",
       "      <th>NORMAL</th>\n",
       "      <td>26315</td>\n",
       "      <td>37.67</td>\n",
       "    </tr>\n",
       "  </tbody>\n",
       "</table>\n",
       "</div>"
      ],
      "text/plain": [
       "           id  percentage\n",
       "class                    \n",
       "CNV     24861       35.58\n",
       "DME     10436       14.94\n",
       "DRUSEN   8252       11.81\n",
       "NORMAL  26315       37.67"
      ]
     },
     "execution_count": 5,
     "metadata": {},
     "output_type": "execute_result"
    }
   ],
   "source": [
    "#train 파일 리스트로 데이터프레임 만들기 \n",
    "classify = []\n",
    "patient = []\n",
    "fileno = []\n",
    "\n",
    "for name in train_total:\n",
    "    classify.append(name.split(\"-\")[0])\n",
    "    patient.append(name.split(\"-\")[1])\n",
    "    fileno.append(name.split(\"-\")[2].split(\".\")[0])\n",
    "    \n",
    "train_df = pd.DataFrame({\"class\":classify, \"id\":patient, \"numbers\":fileno})\n",
    "\n",
    "\n",
    "train_des = train_df[[\"class\", \"id\"]].groupby(\"class\").count()\n",
    "train_des[\"percentage\"] = round(train_des[\"id\"] / len(train_total), 4) *100 \n",
    "train_des"
   ]
  },
  {
   "cell_type": "code",
   "execution_count": 6,
   "id": "462f840d",
   "metadata": {},
   "outputs": [
    {
     "data": {
      "text/plain": [
       "(69864, 4590)"
      ]
     },
     "execution_count": 6,
     "metadata": {},
     "output_type": "execute_result"
    }
   ],
   "source": [
    "len(train_df), len(train_df[\"id\"].unique())"
   ]
  },
  {
   "cell_type": "code",
   "execution_count": 7,
   "id": "1a08091f",
   "metadata": {},
   "outputs": [
    {
     "data": {
      "text/html": [
       "<div>\n",
       "<style scoped>\n",
       "    .dataframe tbody tr th:only-of-type {\n",
       "        vertical-align: middle;\n",
       "    }\n",
       "\n",
       "    .dataframe tbody tr th {\n",
       "        vertical-align: top;\n",
       "    }\n",
       "\n",
       "    .dataframe thead th {\n",
       "        text-align: right;\n",
       "    }\n",
       "</style>\n",
       "<table border=\"1\" class=\"dataframe\">\n",
       "  <thead>\n",
       "    <tr style=\"text-align: right;\">\n",
       "      <th></th>\n",
       "      <th>class</th>\n",
       "      <th>id</th>\n",
       "      <th>numbers</th>\n",
       "    </tr>\n",
       "  </thead>\n",
       "  <tbody>\n",
       "    <tr>\n",
       "      <th>0</th>\n",
       "      <td>CNV</td>\n",
       "      <td>163081</td>\n",
       "      <td>153</td>\n",
       "    </tr>\n",
       "    <tr>\n",
       "      <th>1</th>\n",
       "      <td>CNV</td>\n",
       "      <td>3537912</td>\n",
       "      <td>28</td>\n",
       "    </tr>\n",
       "    <tr>\n",
       "      <th>2</th>\n",
       "      <td>CNV</td>\n",
       "      <td>8087608</td>\n",
       "      <td>23</td>\n",
       "    </tr>\n",
       "    <tr>\n",
       "      <th>3</th>\n",
       "      <td>CNV</td>\n",
       "      <td>398897</td>\n",
       "      <td>1</td>\n",
       "    </tr>\n",
       "    <tr>\n",
       "      <th>4</th>\n",
       "      <td>CNV</td>\n",
       "      <td>457907</td>\n",
       "      <td>44</td>\n",
       "    </tr>\n",
       "  </tbody>\n",
       "</table>\n",
       "</div>"
      ],
      "text/plain": [
       "  class       id numbers\n",
       "0   CNV   163081     153\n",
       "1   CNV  3537912      28\n",
       "2   CNV  8087608      23\n",
       "3   CNV   398897       1\n",
       "4   CNV   457907      44"
      ]
     },
     "execution_count": 7,
     "metadata": {},
     "output_type": "execute_result"
    }
   ],
   "source": [
    "train_df.head()"
   ]
  },
  {
   "cell_type": "code",
   "execution_count": 8,
   "id": "c2259038",
   "metadata": {},
   "outputs": [
    {
     "data": {
      "text/plain": [
       "([], [])"
      ]
     },
     "execution_count": 8,
     "metadata": {},
     "output_type": "execute_result"
    },
    {
     "data": {
      "image/png": "[encoded data removed]",
      "text/plain": [
       "<Figure size 432x288 with 1 Axes>"
      ]
     },
     "metadata": {
      "needs_background": "light"
     },
     "output_type": "display_data"
    }
   ],
   "source": [
    "#환자 id 를 기준으로 value_counts -> id당 사진 몇 장인지 확인하기 \n",
    "#불균형이 엄청 심함 \n",
    "\n",
    "train_df[[\"class\", \"id\"]].value_counts().plot(color=\"black\")\n",
    "plt.xticks(ticks=[])\n",
    "\n"
   ]
  },
  {
   "cell_type": "code",
   "execution_count": 9,
   "id": "33c537a4",
   "metadata": {},
   "outputs": [
    {
     "data": {
      "text/plain": [
       "count    5620.000000\n",
       "mean       12.431317\n",
       "std        19.672910\n",
       "min         1.000000\n",
       "25%         3.000000\n",
       "50%         5.000000\n",
       "75%        12.000000\n",
       "max       100.000000\n",
       "dtype: float64"
      ]
     },
     "execution_count": 9,
     "metadata": {},
     "output_type": "execute_result"
    }
   ],
   "source": [
    "#max가 813에 달하는 것을 확인할 수 있다 \n",
    "train_df[[\"class\", \"id\"]].value_counts().describe()"
   ]
  },
  {
   "cell_type": "code",
   "execution_count": 10,
   "id": "ebd0e393",
   "metadata": {},
   "outputs": [
    {
     "data": {
      "text/html": [
       "<div>\n",
       "<style scoped>\n",
       "    .dataframe tbody tr th:only-of-type {\n",
       "        vertical-align: middle;\n",
       "    }\n",
       "\n",
       "    .dataframe tbody tr th {\n",
       "        vertical-align: top;\n",
       "    }\n",
       "\n",
       "    .dataframe thead th {\n",
       "        text-align: right;\n",
       "    }\n",
       "</style>\n",
       "<table border=\"1\" class=\"dataframe\">\n",
       "  <thead>\n",
       "    <tr style=\"text-align: right;\">\n",
       "      <th></th>\n",
       "      <th>class</th>\n",
       "      <th>id</th>\n",
       "      <th>numbers</th>\n",
       "    </tr>\n",
       "  </thead>\n",
       "  <tbody>\n",
       "    <tr>\n",
       "      <th>0</th>\n",
       "      <td>CNV</td>\n",
       "      <td>163081</td>\n",
       "      <td>153</td>\n",
       "    </tr>\n",
       "    <tr>\n",
       "      <th>1</th>\n",
       "      <td>CNV</td>\n",
       "      <td>3537912</td>\n",
       "      <td>28</td>\n",
       "    </tr>\n",
       "    <tr>\n",
       "      <th>2</th>\n",
       "      <td>CNV</td>\n",
       "      <td>8087608</td>\n",
       "      <td>23</td>\n",
       "    </tr>\n",
       "    <tr>\n",
       "      <th>3</th>\n",
       "      <td>CNV</td>\n",
       "      <td>398897</td>\n",
       "      <td>1</td>\n",
       "    </tr>\n",
       "    <tr>\n",
       "      <th>4</th>\n",
       "      <td>CNV</td>\n",
       "      <td>457907</td>\n",
       "      <td>44</td>\n",
       "    </tr>\n",
       "    <tr>\n",
       "      <th>...</th>\n",
       "      <td>...</td>\n",
       "      <td>...</td>\n",
       "      <td>...</td>\n",
       "    </tr>\n",
       "    <tr>\n",
       "      <th>69859</th>\n",
       "      <td>NORMAL</td>\n",
       "      <td>4982430</td>\n",
       "      <td>4</td>\n",
       "    </tr>\n",
       "    <tr>\n",
       "      <th>69860</th>\n",
       "      <td>NORMAL</td>\n",
       "      <td>4192922</td>\n",
       "      <td>12</td>\n",
       "    </tr>\n",
       "    <tr>\n",
       "      <th>69861</th>\n",
       "      <td>NORMAL</td>\n",
       "      <td>5685882</td>\n",
       "      <td>9</td>\n",
       "    </tr>\n",
       "    <tr>\n",
       "      <th>69862</th>\n",
       "      <td>NORMAL</td>\n",
       "      <td>2137983</td>\n",
       "      <td>4</td>\n",
       "    </tr>\n",
       "    <tr>\n",
       "      <th>69863</th>\n",
       "      <td>NORMAL</td>\n",
       "      <td>5645194</td>\n",
       "      <td>18</td>\n",
       "    </tr>\n",
       "  </tbody>\n",
       "</table>\n",
       "<p>69864 rows × 3 columns</p>\n",
       "</div>"
      ],
      "text/plain": [
       "        class       id numbers\n",
       "0         CNV   163081     153\n",
       "1         CNV  3537912      28\n",
       "2         CNV  8087608      23\n",
       "3         CNV   398897       1\n",
       "4         CNV   457907      44\n",
       "...       ...      ...     ...\n",
       "69859  NORMAL  4982430       4\n",
       "69860  NORMAL  4192922      12\n",
       "69861  NORMAL  5685882       9\n",
       "69862  NORMAL  2137983       4\n",
       "69863  NORMAL  5645194      18\n",
       "\n",
       "[69864 rows x 3 columns]"
      ]
     },
     "execution_count": 10,
     "metadata": {},
     "output_type": "execute_result"
    }
   ],
   "source": [
    "train_df"
   ]
  },
  {
   "cell_type": "code",
   "execution_count": 11,
   "id": "a3e52b3e",
   "metadata": {},
   "outputs": [
    {
     "data": {
      "text/html": [
       "<div>\n",
       "<style scoped>\n",
       "    .dataframe tbody tr th:only-of-type {\n",
       "        vertical-align: middle;\n",
       "    }\n",
       "\n",
       "    .dataframe tbody tr th {\n",
       "        vertical-align: top;\n",
       "    }\n",
       "\n",
       "    .dataframe thead th {\n",
       "        text-align: right;\n",
       "    }\n",
       "</style>\n",
       "<table border=\"1\" class=\"dataframe\">\n",
       "  <thead>\n",
       "    <tr style=\"text-align: right;\">\n",
       "      <th></th>\n",
       "      <th>class</th>\n",
       "      <th>id</th>\n",
       "    </tr>\n",
       "  </thead>\n",
       "  <tbody>\n",
       "    <tr>\n",
       "      <th>0</th>\n",
       "      <td>CNV</td>\n",
       "      <td>163081</td>\n",
       "    </tr>\n",
       "    <tr>\n",
       "      <th>1</th>\n",
       "      <td>CNV</td>\n",
       "      <td>3537912</td>\n",
       "    </tr>\n",
       "    <tr>\n",
       "      <th>2</th>\n",
       "      <td>CNV</td>\n",
       "      <td>8087608</td>\n",
       "    </tr>\n",
       "    <tr>\n",
       "      <th>3</th>\n",
       "      <td>CNV</td>\n",
       "      <td>398897</td>\n",
       "    </tr>\n",
       "    <tr>\n",
       "      <th>4</th>\n",
       "      <td>CNV</td>\n",
       "      <td>457907</td>\n",
       "    </tr>\n",
       "    <tr>\n",
       "      <th>...</th>\n",
       "      <td>...</td>\n",
       "      <td>...</td>\n",
       "    </tr>\n",
       "    <tr>\n",
       "      <th>69130</th>\n",
       "      <td>NORMAL</td>\n",
       "      <td>629493</td>\n",
       "    </tr>\n",
       "    <tr>\n",
       "      <th>69200</th>\n",
       "      <td>NORMAL</td>\n",
       "      <td>9317399</td>\n",
       "    </tr>\n",
       "    <tr>\n",
       "      <th>69202</th>\n",
       "      <td>NORMAL</td>\n",
       "      <td>5339392</td>\n",
       "    </tr>\n",
       "    <tr>\n",
       "      <th>69216</th>\n",
       "      <td>NORMAL</td>\n",
       "      <td>8150554</td>\n",
       "    </tr>\n",
       "    <tr>\n",
       "      <th>69222</th>\n",
       "      <td>NORMAL</td>\n",
       "      <td>345232</td>\n",
       "    </tr>\n",
       "  </tbody>\n",
       "</table>\n",
       "<p>5620 rows × 2 columns</p>\n",
       "</div>"
      ],
      "text/plain": [
       "        class       id\n",
       "0         CNV   163081\n",
       "1         CNV  3537912\n",
       "2         CNV  8087608\n",
       "3         CNV   398897\n",
       "4         CNV   457907\n",
       "...       ...      ...\n",
       "69130  NORMAL   629493\n",
       "69200  NORMAL  9317399\n",
       "69202  NORMAL  5339392\n",
       "69216  NORMAL  8150554\n",
       "69222  NORMAL   345232\n",
       "\n",
       "[5620 rows x 2 columns]"
      ]
     },
     "execution_count": 11,
     "metadata": {},
     "output_type": "execute_result"
    }
   ],
   "source": [
    "classid = train_df[[\"class\", \"id\"]].drop_duplicates()\n",
    "classid"
   ]
  },
  {
   "cell_type": "code",
   "execution_count": 23,
   "id": "f88eab3a",
   "metadata": {},
   "outputs": [],
   "source": [
    "# normal 클래스도 다른 id와 중복되는 것이 없는지 체크\n",
    "# 사유 : 시계열 데이터라 병이 없다가 생긴 경우가 있을 수 있어서 \n",
    "\n",
    "cnvid = list(classid[classid[\"class\"] == \"CNV\"].id)\n",
    "dmeid = list(classid[classid[\"class\"] == \"DME\"].id)\n",
    "drusenid = list(classid[classid[\"class\"] == \"DRUSEN\"].id)\n",
    "normid = list(classid[classid[\"class\"] == \"NORMAL\"].id)\n",
    "\n",
    "#CNV증상만 있는 id\n",
    "onlycnv = set(cnvid) - set(dmeid) - set(drusenid) - set(normid)\n",
    "\n",
    "#DME증상만 있는 id\n",
    "onlydme = set(dmeid) - set(cnvid) - set(drusenid) - set(normid)\n",
    "\n",
    "#DRUSEN증상만 있는 id \n",
    "onlydru = set(drusenid) - set(dmeid) - set(cnvid) - set(normid)\n",
    "\n",
    "#Normal id\n",
    "onlynorm = set(normid) - set(dmeid) - set(cnvid) - set(drusenid)\n",
    "\n",
    "#합치기 \n",
    "pureid = []\n",
    "pureid.extend(list(onlycnv))\n",
    "pureid.extend(list(onlydme))\n",
    "pureid.extend(list(onlydru))\n",
    "pureid.extend(list(onlynorm))\n"
   ]
  },
  {
   "cell_type": "code",
   "execution_count": 25,
   "id": "f3e6bffa",
   "metadata": {},
   "outputs": [
    {
     "data": {
      "text/plain": [
       "3719"
      ]
     },
     "execution_count": 25,
     "metadata": {},
     "output_type": "execute_result"
    }
   ],
   "source": [
    "len(pureid)"
   ]
  },
  {
   "cell_type": "code",
   "execution_count": 27,
   "id": "494b916d",
   "metadata": {},
   "outputs": [],
   "source": [
    "classid = classid[classid[\"id\"].isin(pureid)]"
   ]
  },
  {
   "cell_type": "code",
   "execution_count": 49,
   "id": "550b50ae",
   "metadata": {},
   "outputs": [
    {
     "data": {
      "text/plain": [
       "2603"
      ]
     },
     "execution_count": 49,
     "metadata": {},
     "output_type": "execute_result"
    }
   ],
   "source": [
    "trainset = pd.DataFrame()\n",
    "trainset = pd.concat([classid[classid[\"class\"] == \"CNV\"].sample(frac=0.7, random_state=77),\n",
    "                     classid[classid[\"class\"] == \"DME\"].sample(frac=0.7, random_state=77),\n",
    "                     classid[classid[\"class\"] == \"DRUSEN\"].sample(frac=0.7, random_state=77),\n",
    "                     classid[classid[\"class\"] == \"NORMAL\"].sample(frac=0.7, random_state=77)], \n",
    "                   axis=0)\n",
    "len(trainset)\n"
   ]
  },
  {
   "cell_type": "code",
   "execution_count": 54,
   "id": "d4982d94",
   "metadata": {},
   "outputs": [],
   "source": [
    "remains = list(classid.index[classid.index.isin(trainset.index) == False])\n",
    "remains = classid.loc[remains]\n",
    "\n",
    "testset = pd.DataFrame()\n",
    "testset = pd.concat([remains[remains[\"class\"] == \"CNV\"].sample(frac=0.67, random_state=77),\n",
    "                     remains[remains[\"class\"] == \"DME\"].sample(frac=0.67, random_state=77),\n",
    "                     remains[remains[\"class\"] == \"DRUSEN\"].sample(frac=0.67, random_state=77),\n",
    "                     remains[remains[\"class\"] == \"NORMAL\"].sample(frac=0.67, random_state=77)], \n",
    "                   axis=0)\n",
    "\n",
    "remains = list(remains.index[remains.index.isin(testset.index) == False])\n",
    "valset = classid.loc[remains]"
   ]
  },
  {
   "cell_type": "code",
   "execution_count": 55,
   "id": "e00c01e8",
   "metadata": {},
   "outputs": [
    {
     "data": {
      "text/plain": [
       "(748, 368)"
      ]
     },
     "execution_count": 55,
     "metadata": {},
     "output_type": "execute_result"
    }
   ],
   "source": [
    "len(testset), len(valset)"
   ]
  },
  {
   "cell_type": "code",
   "execution_count": 58,
   "id": "e37bdd1d",
   "metadata": {},
   "outputs": [
    {
     "name": "stdout",
     "output_type": "stream",
     "text": [
      "Ratio of train id 0.7\n",
      "Ratio of test id  0.2\n",
      "Ratio of validation id 0.1\n"
     ]
    }
   ],
   "source": [
    "print(\"Ratio of train id\", round(len(trainset)/ (len(trainset) + len(testset) + len(valset)), 2))\n",
    "print(\"Ratio of test id \", round(len(testset)/ (len(trainset) + len(testset) + len(valset)), 2))\n",
    "print(\"Ratio of validation id\", round(len(valset)/ (len(trainset) + len(testset) + len(valset)), 2))"
   ]
  },
  {
   "cell_type": "code",
   "execution_count": 71,
   "id": "c9776278",
   "metadata": {},
   "outputs": [],
   "source": []
  },
  {
   "cell_type": "code",
   "execution_count": 59,
   "id": "e607c21c",
   "metadata": {},
   "outputs": [
    {
     "data": {
      "text/plain": [
       "27525"
      ]
     },
     "execution_count": 59,
     "metadata": {},
     "output_type": "execute_result"
    }
   ],
   "source": [
    "totaltrain = []\n",
    "for c, i in zip(trainset[\"class\"], trainset[\"id\"]):\n",
    "    dummydir = \"/Users/jh/Desktop/OCT_sampling/train/\" + c + \"/\" + c + \"-\" + i + \"-\" + \"*\"\n",
    "    output = glob.glob(dummydir)\n",
    "    totaltrain.extend(output)\n",
    "    \n",
    "len(totaltrain)"
   ]
  },
  {
   "cell_type": "code",
   "execution_count": 60,
   "id": "53ccbb98",
   "metadata": {},
   "outputs": [
    {
     "data": {
      "text/plain": [
       "6891"
      ]
     },
     "execution_count": 60,
     "metadata": {},
     "output_type": "execute_result"
    }
   ],
   "source": [
    "totaltest = []\n",
    "for c, i in zip(testset[\"class\"], testset[\"id\"]):\n",
    "    dummydir = \"/Users/jh/Desktop/OCT_sampling/train/\" + c + \"/\" + c + \"-\" + i + \"-\" + \"*\"\n",
    "    output = glob.glob(dummydir)\n",
    "    totaltest.extend(output)\n",
    "    \n",
    "len(totaltest)"
   ]
  },
  {
   "cell_type": "code",
   "execution_count": 61,
   "id": "80a44f9d",
   "metadata": {},
   "outputs": [
    {
     "data": {
      "text/plain": [
       "3917"
      ]
     },
     "execution_count": 61,
     "metadata": {},
     "output_type": "execute_result"
    }
   ],
   "source": [
    "totalval = []\n",
    "for c, i in zip(valset[\"class\"], valset[\"id\"]):\n",
    "    dummydir = \"/Users/jh/Desktop/OCT_sampling/train/\" + c + \"/\" + c + \"-\" + i + \"-\" + \"*\"\n",
    "    output = glob.glob(dummydir)\n",
    "    totalval.extend(output)\n",
    "    \n",
    "len(totalval)"
   ]
  },
  {
   "cell_type": "code",
   "execution_count": 62,
   "id": "9362de11",
   "metadata": {},
   "outputs": [
    {
     "name": "stdout",
     "output_type": "stream",
     "text": [
      "Ratio of train data 0.72\n",
      "Ratio of test data 0.18\n",
      "Ratio of validation data 0.1\n"
     ]
    }
   ],
   "source": [
    "print(\"Ratio of train data\", round(len(totaltrain)/ (len(totaltrain) + len(totaltest) + len(totalval)), 2))\n",
    "print(\"Ratio of test data\", round(len(totaltest)/ (len(totaltrain) + len(totaltest) + len(totalval)), 2))\n",
    "print(\"Ratio of validation data\", round(len(totalval)/ (len(totaltrain) + len(totaltest) + len(totalval)), 2))"
   ]
  },
  {
   "cell_type": "code",
   "execution_count": null,
   "id": "4ea4caf8",
   "metadata": {},
   "outputs": [],
   "source": []
  }
 ],
 "metadata": {
  "kernelspec": {
   "display_name": "Python 3.8.6 64-bit ('m1': conda)",
   "language": "python",
   "name": "python386jvsc74a57bd07918b9be9029ed4a26abb1e3f55c1f59c9a25fcca3de584c39fa0974acb148d7"
  },
  "language_info": {
   "codemirror_mode": {
    "name": "ipython",
    "version": 3
   },
   "file_extension": ".py",
   "mimetype": "text/x-python",
   "name": "python",
   "nbconvert_exporter": "python",
   "pygments_lexer": "ipython3",
   "version": "3.8.10"
  }
 },
 "nbformat": 4,
 "nbformat_minor": 5
}
